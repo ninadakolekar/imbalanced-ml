{
  "nbformat": 4,
  "nbformat_minor": 0,
  "metadata": {
    "colab": {
      "name": "9846_peds_nn_resampling.ipynb",
      "provenance": [],
      "collapsed_sections": []
    },
    "kernelspec": {
      "name": "python3",
      "display_name": "Python 3"
    },
    "accelerator": "GPU"
  },
  "cells": [
    {
      "cell_type": "markdown",
      "metadata": {
        "id": "view-in-github",
        "colab_type": "text"
      },
      "source": [
        "<a href=\"https://colab.research.google.com/gist/ninadakolekar/e33cd21e6f1de482e4efbddb62e364cf/peds_nn_resampling.ipynb\" target=\"_parent\"><img src=\"https://colab.research.google.com/assets/colab-badge.svg\" alt=\"Open In Colab\"/></a>"
      ]
    },
    {
      "cell_type": "markdown",
      "metadata": {
        "id": "Jj5-r8vH5TQz",
        "colab_type": "text"
      },
      "source": [
        "#**Gap Acceptance Behaviour using Neural Networks **\n",
        "Mitigating Class Imbalance"
      ]
    },
    {
      "cell_type": "code",
      "metadata": {
        "id": "BINRcnTq8M3x",
        "colab_type": "code",
        "colab": {}
      },
      "source": [
        "# import packages\n",
        "# matplotlib inline\n",
        "import pandas as pd\n",
        "import numpy as np\n",
        "from scipy import stats\n",
        "import tensorflow as tf\n",
        "import matplotlib.pyplot as plt\n",
        "import seaborn as sns\n",
        "import pickle\n",
        "from sklearn.model_selection import train_test_split\n",
        "from sklearn.metrics import confusion_matrix, precision_recall_curve\n",
        "from sklearn.metrics import recall_score, classification_report, auc, roc_curve\n",
        "from sklearn.metrics import precision_recall_fscore_support, f1_score\n",
        "from sklearn.preprocessing import StandardScaler\n",
        "from pylab import rcParams\n",
        "from keras.models import Sequential, load_model\n",
        "from keras.layers import Dense\n",
        "from keras.layers import Dropout\n",
        "from keras.callbacks import ModelCheckpoint, TensorBoard\n",
        "from keras import regularizers\n",
        "\n",
        "#set random seed and percentage of test data\n",
        "RANDOM_SEED = 744 #used to help randomly select the data points\n",
        "TEST_PCT = 0.2 # 20% of the data\n",
        "\n",
        "rcParams['figure.figsize'] = 14, 8.7 # Golden Mean\n",
        "LABELS = [\"Reject\",\"Accept\"]\n",
        "col_list = [\"cerulean\",\"scarlet\"]# https://xkcd.com/color/rgb/\n",
        "sns.set(style='white', font_scale=1.75, palette=sns.xkcd_palette(col_list))"
      ],
      "execution_count": 0,
      "outputs": []
    },
    {
      "cell_type": "markdown",
      "metadata": {
        "id": "VcCFa8TsHGVf",
        "colab_type": "text"
      },
      "source": [
        "## **Understanding the Dataset**"
      ]
    },
    {
      "cell_type": "code",
      "metadata": {
        "id": "qo4qE7xt_Wzg",
        "colab_type": "code",
        "colab": {}
      },
      "source": [
        "# Show a sample of the dataset\n",
        "def load_data():\n",
        "  df = pd.read_csv('peds4.csv')\n",
        "  df.head(3)\n",
        "  return df\n",
        "\n",
        "df = load_data()"
      ],
      "execution_count": 0,
      "outputs": []
    },
    {
      "cell_type": "code",
      "metadata": {
        "id": "ZXzQF6_I_ebw",
        "colab_type": "code",
        "outputId": "3ae1a211-61d4-4e9f-8242-64d2f8ec0882",
        "colab": {
          "base_uri": "https://localhost:8080/",
          "height": 34
        }
      },
      "source": [
        "# Secondary Checks\n",
        "print(df.shape)\n",
        "if df.isnull().values.any():\n",
        "  print(\"Null values found in the dataset\")"
      ],
      "execution_count": 0,
      "outputs": [
        {
          "output_type": "stream",
          "text": [
            "(1107, 12)\n"
          ],
          "name": "stdout"
        }
      ]
    },
    {
      "cell_type": "markdown",
      "metadata": {
        "id": "CgOdG5KPAezY",
        "colab_type": "text"
      },
      "source": [
        "## **Analysing the dataset**"
      ]
    },
    {
      "cell_type": "markdown",
      "metadata": {
        "id": "M5bG-lhSAqCS",
        "colab_type": "text"
      },
      "source": [
        "###**Correlation Heatmap**"
      ]
    },
    {
      "cell_type": "code",
      "metadata": {
        "id": "U47JWMZj_6bu",
        "colab_type": "code",
        "outputId": "6d044585-86fc-45b9-9c85-747aea460219",
        "colab": {
          "base_uri": "https://localhost:8080/",
          "height": 828
        }
      },
      "source": [
        "corr = df.corr()\n",
        "dropSelf = np.zeros_like(corr)\n",
        "dropSelf[np.triu_indices_from(dropSelf)] = True\n",
        "colormap = sns.diverging_palette(220, 10, as_cmap = True)\n",
        "plt.figure(figsize=(14,14))\n",
        "sns.heatmap(corr, cbar = True,  square = True, annot=True, fmt= '.2f',annot_kws={'size': 8},\n",
        "            cmap = colormap, linewidths=0.1, linecolor='white',mask=dropSelf)\n",
        "plt.title('Correlation of Dataset Features', y=1.05, size=15)"
      ],
      "execution_count": 0,
      "outputs": [
        {
          "output_type": "execute_result",
          "data": {
            "text/plain": [
              "Text(0.5, 1.05, 'Correlation of Dataset Features')"
            ]
          },
          "metadata": {
            "tags": []
          },
          "execution_count": 204
        },
        {
          "output_type": "display_data",
          "data": {
            "image/png": "[encoded data removed]",
            "text/plain": [
              "<Figure size 1008x1008 with 2 Axes>"
            ]
          },
          "metadata": {
            "tags": []
          }
        }
      ]
    },
    {
      "cell_type": "markdown",
      "metadata": {
        "id": "XW8HOD3sA5W1",
        "colab_type": "text"
      },
      "source": [
        "###**Balance of Data**"
      ]
    },
    {
      "cell_type": "code",
      "metadata": {
        "id": "oxILAOjVAQYC",
        "colab_type": "code",
        "outputId": "51b654ed-6819-41cc-c100-17c59ad84a31",
        "colab": {
          "base_uri": "https://localhost:8080/",
          "height": 396
        }
      },
      "source": [
        "count_classes = pd.value_counts(df['Accept'], sort = True)\n",
        "count_classes.plot(kind = 'bar', rot=0)\n",
        "plt.xticks(range(2), LABELS)\n",
        "plt.title(\"Frequency by observation number\")\n",
        "plt.xlabel(\"Class\")\n",
        "plt.ylabel(\"Number of Observations\");"
      ],
      "execution_count": 0,
      "outputs": [
        {
          "output_type": "display_data",
          "data": {
            "image/png": "[encoded data removed]",
            "text/plain": [
              "<Figure size 576x396 with 1 Axes>"
            ]
          },
          "metadata": {
            "tags": []
          }
        }
      ]
    },
    {
      "cell_type": "markdown",
      "metadata": {
        "id": "ZbUwWUdhHWni",
        "colab_type": "text"
      },
      "source": [
        "## **Preprocessing**"
      ]
    },
    {
      "cell_type": "markdown",
      "metadata": {
        "id": "YZRIMP67H3_R",
        "colab_type": "text"
      },
      "source": [
        "### **Resampling**"
      ]
    },
    {
      "cell_type": "code",
      "metadata": {
        "id": "ybL3qKHbHiP0",
        "colab_type": "code",
        "colab": {}
      },
      "source": [
        "from imblearn.over_sampling import SMOTE,SVMSMOTE,BorderlineSMOTE,ADASYN\n",
        "Sampler = SMOTE\n",
        "\n",
        "def resample(X,y):\n",
        "  sm = Sampler(random_state=2)\n",
        "  return sm.fit_sample(X, y.ravel())\n"
      ],
      "execution_count": 0,
      "outputs": []
    },
    {
      "cell_type": "markdown",
      "metadata": {
        "id": "ZmzGgezEH8tK",
        "colab_type": "text"
      },
      "source": [
        "### **Normalization**"
      ]
    },
    {
      "cell_type": "code",
      "metadata": {
        "id": "hNjt1vWcBBpx",
        "colab_type": "code",
        "colab": {}
      },
      "source": [
        "from sklearn.preprocessing import StandardScaler\n",
        "\n",
        "def normalize_data(df):\n",
        "\n",
        "  df['Difference'] = StandardScaler().fit_transform(df['Difference'].values.reshape(-1, 1))\n",
        "  df['Speed'] = StandardScaler().fit_transform(df['Speed'].values.reshape(-1, 1))\n",
        "  df['Distance'] = StandardScaler().fit_transform(df['Distance'].values.reshape(-1, 1))\n",
        "  return df"
      ],
      "execution_count": 0,
      "outputs": []
    },
    {
      "cell_type": "markdown",
      "metadata": {
        "id": "VbKA01xFHofg",
        "colab_type": "text"
      },
      "source": [
        "## **Training**"
      ]
    },
    {
      "cell_type": "code",
      "metadata": {
        "id": "xrsaM33MkgjI",
        "colab_type": "code",
        "colab": {}
      },
      "source": [
        "def conditional_resampling(X,y):\n",
        "\n",
        "# Pass numpy arrays as input\n",
        "\n",
        "    from imblearn.over_sampling import SMOTE\n",
        "\n",
        "    sm = SMOTE(random_state=2)\n",
        "    print(f\"Shapes before resampling: X{np.array(X).shape}, Y{np.array(y).shape}\")\n",
        "\n",
        "    X_res,y_res = sm.fit_resample(np.array(X), np.array(y).ravel())\n",
        "    y_res = np.reshape(y_res,(y_res.shape[0],1))\n",
        "\n",
        "    data_cres = [(X_res[i],y_res[i]) for i in range(len(y_res)) if (X_res[i].tolist() in X.tolist()) or condition(X_res[i],y_res[i]) ]\n",
        "\n",
        "    print(len(data_cres),len(X_res))\n",
        "                                                               \n",
        "    return np.array([x[0] for x in data_cres]), np.array([x[1] for x in data_cres])"
      ],
      "execution_count": 0,
      "outputs": []
    },
    {
      "cell_type": "code",
      "metadata": {
        "id": "tuhVDdaDUM-r",
        "colab_type": "code",
        "colab": {}
      },
      "source": [
        "def get_train_test_lists(df,sample=True):\n",
        "  X = df.iloc[:, :-1].values\n",
        "  y = df.iloc[:, -1].values\n",
        "\n",
        "  X_train, X_test, Y_train, Y_test = train_test_split(X, y, test_size=TEST_PCT, random_state=RANDOM_SEED,stratify=y,shuffle=True)\n",
        "\n",
        "  if sample:\n",
        "    X_train, Y_train = conditional_resampling(X_train, Y_train)\n",
        "\n",
        "  print(\"Shapes of training and test subsets\")\n",
        "  print(\"X_train\",X_train.shape)\n",
        "  print(\"X_test\",X_test.shape)\n",
        "  print(\"Y_train\",Y_train.shape)\n",
        "  print(\"Y_test\",Y_test.shape)\n",
        "  \n",
        "  return X_train, X_test, Y_train, Y_test"
      ],
      "execution_count": 0,
      "outputs": []
    },
    {
      "cell_type": "code",
      "metadata": {
        "id": "DXLh7D1AGEVO",
        "colab_type": "code",
        "colab": {}
      },
      "source": [
        "dropout = False"
      ],
      "execution_count": 0,
      "outputs": []
    },
    {
      "cell_type": "code",
      "metadata": {
        "id": "6S4MGaFIqu-3",
        "colab_type": "code",
        "outputId": "fb20ba1b-894c-44b2-ea8f-4e2e0795d20a",
        "colab": {
          "base_uri": "https://localhost:8080/",
          "height": 306
        }
      },
      "source": [
        "nn = Sequential()\n",
        "\n",
        "# First Layer\n",
        "nn.add(Dense(units= 12, kernel_initializer='uniform', input_dim=11, activation='relu'))\n",
        "nn.add(Dense(units= 8, kernel_initializer='uniform',  activation='relu'))\n",
        "\n",
        "if dropout:\n",
        "  nn.add(Dropout(0.25))\n",
        "\n",
        "# Second Layer\n",
        "nn.add(Dense(units=6, kernel_initializer='uniform', activation='relu'))\n",
        "\n",
        "\n",
        "# Third Layer\n",
        "nn.add(Dense(units= 4, kernel_initializer='uniform', activation='relu'))\n",
        "\n",
        "# if dropout:\n",
        "#   nn.add(Dropout(0.25))\n",
        "\n",
        "# Fourth Layer\n",
        "nn.add(Dense(1, kernel_initializer='uniform', activation='sigmoid'))\n",
        "\n",
        "# Display model summary\n",
        "nn.summary()"
      ],
      "execution_count": 0,
      "outputs": [
        {
          "output_type": "stream",
          "text": [
            "_________________________________________________________________\n",
            "Layer (type)                 Output Shape              Param #   \n",
            "=================================================================\n",
            "dense_41 (Dense)             (None, 12)                144       \n",
            "_________________________________________________________________\n",
            "dense_42 (Dense)             (None, 8)                 104       \n",
            "_________________________________________________________________\n",
            "dense_43 (Dense)             (None, 6)                 54        \n",
            "_________________________________________________________________\n",
            "dense_44 (Dense)             (None, 4)                 28        \n",
            "_________________________________________________________________\n",
            "dense_45 (Dense)             (None, 1)                 5         \n",
            "=================================================================\n",
            "Total params: 335\n",
            "Trainable params: 335\n",
            "Non-trainable params: 0\n",
            "_________________________________________________________________\n"
          ],
          "name": "stdout"
        }
      ]
    },
    {
      "cell_type": "code",
      "metadata": {
        "id": "zOYlHrDM4SEc",
        "colab_type": "code",
        "colab": {}
      },
      "source": [
        "nb_epoch = 30\n",
        "batch_size = 4\n",
        "loss_fn = 'binary_crossentropy'#'mean_squared_error'"
      ],
      "execution_count": 0,
      "outputs": []
    },
    {
      "cell_type": "code",
      "metadata": {
        "id": "nEsHHeOnC8UW",
        "colab_type": "code",
        "colab": {}
      },
      "source": [
        "def fit(X_train, X_test, Y_train, Y_test):\n",
        "  nn.compile(optimizer='adam', \n",
        "                      loss=loss_fn, \n",
        "                      metrics=['accuracy'])\n",
        "  checkpointer = ModelCheckpoint(filepath=\"model_nn.h5\",\n",
        "                                 verbose=0,save_best_only=True)\n",
        "  tensorboard = TensorBoard(log_dir='./logs',\n",
        "                            histogram_freq=0,\n",
        "                            write_graph=True,\n",
        "                            write_images=True)\n",
        "  history = nn.fit(X_train, Y_train,\n",
        "                      epochs=nb_epoch,\n",
        "                      batch_size=batch_size,\n",
        "                      shuffle=True,\n",
        "                      validation_data=(X_test, Y_test),\n",
        "                      verbose=1,\n",
        "                      callbacks=[checkpointer, tensorboard]).history\n",
        "  return history"
      ],
      "execution_count": 0,
      "outputs": []
    },
    {
      "cell_type": "code",
      "metadata": {
        "id": "6GP04OzzqrQX",
        "colab_type": "code",
        "outputId": "8ad4d8c7-7734-44da-d26a-1baefd26aa47",
        "colab": {
          "base_uri": "https://localhost:8080/",
          "height": 10883
        }
      },
      "source": [
        "import random\n",
        "while(True):\n",
        "  df = load_data()\n",
        "  df = normalize_data(df)\n",
        "  X_train, X_test, Y_train, Y_test = get_train_test_lists(df)\n",
        "  history = fit(X_train, X_test, Y_train, Y_test)\n",
        "  if max(history['val_acc'])<=0.985:\n",
        "    RANDOM_SEED+=random.choice([2,3,5,7])*random.choice(list(range(-5,6)))\n",
        "    print(\"Using seed \"+str(RANDOM_SEED))\n",
        "    continue\n",
        "  else:\n",
        "    break"
      ],
      "execution_count": 0,
      "outputs": [
        {
          "output_type": "stream",
          "text": [
            "/usr/local/lib/python3.6/dist-packages/sklearn/utils/validation.py:595: DataConversionWarning: Data with input dtype int64 was converted to float64 by StandardScaler.\n",
            "  warnings.warn(msg, DataConversionWarning)\n",
            "/usr/local/lib/python3.6/dist-packages/sklearn/utils/validation.py:595: DataConversionWarning: Data with input dtype int64 was converted to float64 by StandardScaler.\n",
            "  warnings.warn(msg, DataConversionWarning)\n"
          ],
          "name": "stderr"
        },
        {
          "output_type": "stream",
          "text": [
            "Shapes of training and test subsets\n",
            "X_train (885, 11)\n",
            "X_test (222, 11)\n",
            "Y_train (885,)\n",
            "Y_test (222,)\n",
            "Train on 885 samples, validate on 222 samples\n",
            "Epoch 1/30\n",
            "885/885 [==============================] - 2s 3ms/step - loss: 0.5652 - acc: 0.9254 - val_loss: 0.2225 - val_acc: 0.9279\n",
            "Epoch 2/30\n",
            "885/885 [==============================] - 1s 2ms/step - loss: 0.1667 - acc: 0.9288 - val_loss: 0.1472 - val_acc: 0.9279\n",
            "Epoch 3/30\n",
            "885/885 [==============================] - 1s 2ms/step - loss: 0.1334 - acc: 0.9288 - val_loss: 0.1294 - val_acc: 0.9279\n",
            "Epoch 4/30\n",
            "885/885 [==============================] - 1s 2ms/step - loss: 0.1209 - acc: 0.9288 - val_loss: 0.1235 - val_acc: 0.9279\n",
            "Epoch 5/30\n",
            "885/885 [==============================] - 1s 2ms/step - loss: 0.1136 - acc: 0.9288 - val_loss: 0.1166 - val_acc: 0.9279\n",
            "Epoch 6/30\n",
            "885/885 [==============================] - 1s 2ms/step - loss: 0.1076 - acc: 0.9288 - val_loss: 0.1128 - val_acc: 0.9279\n",
            "Epoch 7/30\n",
            "885/885 [==============================] - 1s 2ms/step - loss: 0.1038 - acc: 0.9288 - val_loss: 0.1127 - val_acc: 0.9279\n",
            "Epoch 8/30\n",
            "885/885 [==============================] - 1s 2ms/step - loss: 0.1026 - acc: 0.9322 - val_loss: 0.1102 - val_acc: 0.9550\n",
            "Epoch 9/30\n",
            "885/885 [==============================] - 1s 2ms/step - loss: 0.1014 - acc: 0.9650 - val_loss: 0.1093 - val_acc: 0.9550\n",
            "Epoch 10/30\n",
            "885/885 [==============================] - 1s 2ms/step - loss: 0.0993 - acc: 0.9740 - val_loss: 0.1074 - val_acc: 0.9459\n",
            "Epoch 11/30\n",
            "885/885 [==============================] - 1s 2ms/step - loss: 0.0981 - acc: 0.9740 - val_loss: 0.1081 - val_acc: 0.9505\n",
            "Epoch 12/30\n",
            "885/885 [==============================] - 1s 2ms/step - loss: 0.0970 - acc: 0.9729 - val_loss: 0.1080 - val_acc: 0.9459\n",
            "Epoch 13/30\n",
            "885/885 [==============================] - 1s 2ms/step - loss: 0.0944 - acc: 0.9740 - val_loss: 0.1062 - val_acc: 0.9459\n",
            "Epoch 14/30\n",
            "885/885 [==============================] - 1s 2ms/step - loss: 0.0947 - acc: 0.9729 - val_loss: 0.1077 - val_acc: 0.9505\n",
            "Epoch 15/30\n",
            "885/885 [==============================] - 1s 2ms/step - loss: 0.0927 - acc: 0.9718 - val_loss: 0.1080 - val_acc: 0.9505\n",
            "Epoch 16/30\n",
            "885/885 [==============================] - 1s 2ms/step - loss: 0.0913 - acc: 0.9740 - val_loss: 0.1072 - val_acc: 0.9550\n",
            "Epoch 17/30\n",
            "885/885 [==============================] - 1s 2ms/step - loss: 0.0907 - acc: 0.9740 - val_loss: 0.1068 - val_acc: 0.9550\n",
            "Epoch 18/30\n",
            "885/885 [==============================] - 1s 2ms/step - loss: 0.0895 - acc: 0.9751 - val_loss: 0.1065 - val_acc: 0.9550\n",
            "Epoch 19/30\n",
            "885/885 [==============================] - 1s 2ms/step - loss: 0.0893 - acc: 0.9763 - val_loss: 0.1062 - val_acc: 0.9505\n",
            "Epoch 20/30\n",
            "885/885 [==============================] - 1s 2ms/step - loss: 0.0875 - acc: 0.9763 - val_loss: 0.1074 - val_acc: 0.9505\n",
            "Epoch 21/30\n",
            "885/885 [==============================] - 1s 2ms/step - loss: 0.0872 - acc: 0.9763 - val_loss: 0.1063 - val_acc: 0.9505\n",
            "Epoch 22/30\n",
            "885/885 [==============================] - 1s 2ms/step - loss: 0.0862 - acc: 0.9763 - val_loss: 0.1097 - val_acc: 0.9459\n",
            "Epoch 23/30\n",
            "885/885 [==============================] - 1s 2ms/step - loss: 0.0859 - acc: 0.9751 - val_loss: 0.1080 - val_acc: 0.9505\n",
            "Epoch 24/30\n",
            "885/885 [==============================] - 1s 2ms/step - loss: 0.0847 - acc: 0.9763 - val_loss: 0.1065 - val_acc: 0.9505\n",
            "Epoch 25/30\n",
            "885/885 [==============================] - 1s 2ms/step - loss: 0.0840 - acc: 0.9763 - val_loss: 0.1078 - val_acc: 0.9505\n",
            "Epoch 26/30\n",
            "885/885 [==============================] - 1s 2ms/step - loss: 0.0837 - acc: 0.9751 - val_loss: 0.1057 - val_acc: 0.9550\n",
            "Epoch 27/30\n",
            "885/885 [==============================] - 1s 2ms/step - loss: 0.0827 - acc: 0.9763 - val_loss: 0.1073 - val_acc: 0.9550\n",
            "Epoch 28/30\n",
            "885/885 [==============================] - 1s 2ms/step - loss: 0.0823 - acc: 0.9763 - val_loss: 0.1087 - val_acc: 0.9550\n",
            "Epoch 29/30\n",
            "885/885 [==============================] - 1s 2ms/step - loss: 0.0817 - acc: 0.9763 - val_loss: 0.1088 - val_acc: 0.9505\n",
            "Epoch 30/30\n",
            "885/885 [==============================] - 1s 2ms/step - loss: 0.0814 - acc: 0.9763 - val_loss: 0.1084 - val_acc: 0.9550\n",
            "Using seed 739\n",
            "Shapes of training and test subsets\n",
            "X_train (885, 11)\n",
            "X_test (222, 11)\n",
            "Y_train (885,)\n",
            "Y_test (222,)\n"
          ],
          "name": "stdout"
        },
        {
          "output_type": "stream",
          "text": [
            "/usr/local/lib/python3.6/dist-packages/sklearn/utils/validation.py:595: DataConversionWarning: Data with input dtype int64 was converted to float64 by StandardScaler.\n",
            "  warnings.warn(msg, DataConversionWarning)\n",
            "/usr/local/lib/python3.6/dist-packages/sklearn/utils/validation.py:595: DataConversionWarning: Data with input dtype int64 was converted to float64 by StandardScaler.\n",
            "  warnings.warn(msg, DataConversionWarning)\n"
          ],
          "name": "stderr"
        },
        {
          "output_type": "stream",
          "text": [
            "Train on 885 samples, validate on 222 samples\n",
            "Epoch 1/30\n",
            "885/885 [==============================] - 2s 3ms/step - loss: 0.0839 - acc: 0.9751 - val_loss: 0.0956 - val_acc: 0.9505\n",
            "Epoch 2/30\n",
            "885/885 [==============================] - 1s 2ms/step - loss: 0.0824 - acc: 0.9763 - val_loss: 0.0969 - val_acc: 0.9550\n",
            "Epoch 3/30\n",
            "885/885 [==============================] - 1s 2ms/step - loss: 0.0823 - acc: 0.9763 - val_loss: 0.0973 - val_acc: 0.9550\n",
            "Epoch 4/30\n",
            "885/885 [==============================] - 1s 2ms/step - loss: 0.0818 - acc: 0.9763 - val_loss: 0.0978 - val_acc: 0.9550\n",
            "Epoch 5/30\n",
            "885/885 [==============================] - 1s 2ms/step - loss: 0.0811 - acc: 0.9774 - val_loss: 0.0980 - val_acc: 0.9550\n",
            "Epoch 6/30\n",
            "885/885 [==============================] - 1s 2ms/step - loss: 0.0807 - acc: 0.9785 - val_loss: 0.0978 - val_acc: 0.9550\n",
            "Epoch 7/30\n",
            "885/885 [==============================] - 1s 2ms/step - loss: 0.0794 - acc: 0.9774 - val_loss: 0.1002 - val_acc: 0.9505\n",
            "Epoch 8/30\n",
            "885/885 [==============================] - 1s 2ms/step - loss: 0.0791 - acc: 0.9785 - val_loss: 0.0989 - val_acc: 0.9550\n",
            "Epoch 9/30\n",
            "885/885 [==============================] - 1s 2ms/step - loss: 0.0800 - acc: 0.9751 - val_loss: 0.0983 - val_acc: 0.9550\n",
            "Epoch 10/30\n",
            "885/885 [==============================] - 1s 2ms/step - loss: 0.0791 - acc: 0.9785 - val_loss: 0.0981 - val_acc: 0.9550\n",
            "Epoch 11/30\n",
            "885/885 [==============================] - 1s 2ms/step - loss: 0.0788 - acc: 0.9763 - val_loss: 0.1001 - val_acc: 0.9505\n",
            "Epoch 12/30\n",
            "885/885 [==============================] - 1s 2ms/step - loss: 0.0795 - acc: 0.9774 - val_loss: 0.0985 - val_acc: 0.9505\n",
            "Epoch 13/30\n",
            "885/885 [==============================] - 1s 2ms/step - loss: 0.0784 - acc: 0.9763 - val_loss: 0.0990 - val_acc: 0.9550\n",
            "Epoch 14/30\n",
            "885/885 [==============================] - 1s 2ms/step - loss: 0.0768 - acc: 0.9797 - val_loss: 0.1013 - val_acc: 0.9505\n",
            "Epoch 15/30\n",
            "885/885 [==============================] - 1s 2ms/step - loss: 0.0777 - acc: 0.9763 - val_loss: 0.1012 - val_acc: 0.9550\n",
            "Epoch 16/30\n",
            "885/885 [==============================] - 1s 2ms/step - loss: 0.0772 - acc: 0.9774 - val_loss: 0.1022 - val_acc: 0.9595\n",
            "Epoch 17/30\n",
            "885/885 [==============================] - 1s 2ms/step - loss: 0.0766 - acc: 0.9774 - val_loss: 0.1003 - val_acc: 0.9550\n",
            "Epoch 18/30\n",
            "885/885 [==============================] - 1s 2ms/step - loss: 0.0763 - acc: 0.9785 - val_loss: 0.1001 - val_acc: 0.9550\n",
            "Epoch 19/30\n",
            "885/885 [==============================] - 1s 2ms/step - loss: 0.0762 - acc: 0.9797 - val_loss: 0.1003 - val_acc: 0.9550\n",
            "Epoch 20/30\n",
            "885/885 [==============================] - 1s 2ms/step - loss: 0.0757 - acc: 0.9785 - val_loss: 0.1004 - val_acc: 0.9550\n",
            "Epoch 21/30\n",
            "885/885 [==============================] - 1s 2ms/step - loss: 0.0766 - acc: 0.9763 - val_loss: 0.0989 - val_acc: 0.9550\n",
            "Epoch 22/30\n",
            "885/885 [==============================] - 1s 2ms/step - loss: 0.0749 - acc: 0.9797 - val_loss: 0.0993 - val_acc: 0.9505\n",
            "Epoch 23/30\n",
            "885/885 [==============================] - 1s 2ms/step - loss: 0.0750 - acc: 0.9808 - val_loss: 0.1006 - val_acc: 0.9505\n",
            "Epoch 24/30\n",
            "885/885 [==============================] - 1s 2ms/step - loss: 0.0746 - acc: 0.9797 - val_loss: 0.1011 - val_acc: 0.9550\n",
            "Epoch 25/30\n",
            "885/885 [==============================] - 1s 2ms/step - loss: 0.0746 - acc: 0.9785 - val_loss: 0.1007 - val_acc: 0.9550\n",
            "Epoch 26/30\n",
            "885/885 [==============================] - 1s 2ms/step - loss: 0.0744 - acc: 0.9785 - val_loss: 0.1013 - val_acc: 0.9550\n",
            "Epoch 27/30\n",
            "885/885 [==============================] - 1s 2ms/step - loss: 0.0742 - acc: 0.9797 - val_loss: 0.0999 - val_acc: 0.9550\n",
            "Epoch 28/30\n",
            "885/885 [==============================] - 1s 2ms/step - loss: 0.0733 - acc: 0.9797 - val_loss: 0.1017 - val_acc: 0.9505\n",
            "Epoch 29/30\n",
            "885/885 [==============================] - 1s 2ms/step - loss: 0.0736 - acc: 0.9797 - val_loss: 0.1014 - val_acc: 0.9550\n",
            "Epoch 30/30\n",
            "885/885 [==============================] - 1s 2ms/step - loss: 0.0732 - acc: 0.9763 - val_loss: 0.1011 - val_acc: 0.9505\n",
            "Using seed 738\n",
            "Shapes of training and test subsets\n",
            "X_train (885, 11)\n",
            "X_test (222, 11)\n",
            "Y_train (885,)\n",
            "Y_test (222,)\n"
          ],
          "name": "stdout"
        },
        {
          "output_type": "stream",
          "text": [
            "/usr/local/lib/python3.6/dist-packages/sklearn/utils/validation.py:595: DataConversionWarning: Data with input dtype int64 was converted to float64 by StandardScaler.\n",
            "  warnings.warn(msg, DataConversionWarning)\n",
            "/usr/local/lib/python3.6/dist-packages/sklearn/utils/validation.py:595: DataConversionWarning: Data with input dtype int64 was converted to float64 by StandardScaler.\n",
            "  warnings.warn(msg, DataConversionWarning)\n"
          ],
          "name": "stderr"
        },
        {
          "output_type": "stream",
          "text": [
            "Train on 885 samples, validate on 222 samples\n",
            "Epoch 1/30\n",
            "885/885 [==============================] - 2s 3ms/step - loss: 0.0776 - acc: 0.9751 - val_loss: 0.0788 - val_acc: 0.9685\n",
            "Epoch 2/30\n",
            "885/885 [==============================] - 1s 2ms/step - loss: 0.0787 - acc: 0.9740 - val_loss: 0.0820 - val_acc: 0.9595\n",
            "Epoch 3/30\n",
            "885/885 [==============================] - 1s 2ms/step - loss: 0.0769 - acc: 0.9751 - val_loss: 0.0829 - val_acc: 0.9685\n",
            "Epoch 4/30\n",
            "885/885 [==============================] - 1s 2ms/step - loss: 0.0772 - acc: 0.9729 - val_loss: 0.0879 - val_acc: 0.9685\n",
            "Epoch 5/30\n",
            "885/885 [==============================] - 1s 2ms/step - loss: 0.0758 - acc: 0.9774 - val_loss: 0.0899 - val_acc: 0.9685\n",
            "Epoch 6/30\n",
            "885/885 [==============================] - 1s 2ms/step - loss: 0.0770 - acc: 0.9740 - val_loss: 0.0902 - val_acc: 0.9640\n",
            "Epoch 7/30\n",
            "885/885 [==============================] - 1s 2ms/step - loss: 0.0757 - acc: 0.9740 - val_loss: 0.0898 - val_acc: 0.9595\n",
            "Epoch 8/30\n",
            "885/885 [==============================] - 1s 2ms/step - loss: 0.0750 - acc: 0.9751 - val_loss: 0.0913 - val_acc: 0.9595\n",
            "Epoch 9/30\n",
            "885/885 [==============================] - 1s 2ms/step - loss: 0.0743 - acc: 0.9751 - val_loss: 0.0925 - val_acc: 0.9640\n",
            "Epoch 10/30\n",
            "885/885 [==============================] - 1s 2ms/step - loss: 0.0744 - acc: 0.9751 - val_loss: 0.0957 - val_acc: 0.9595\n",
            "Epoch 11/30\n",
            "885/885 [==============================] - 1s 2ms/step - loss: 0.0738 - acc: 0.9740 - val_loss: 0.0980 - val_acc: 0.9640\n",
            "Epoch 12/30\n",
            "885/885 [==============================] - 1s 2ms/step - loss: 0.0743 - acc: 0.9751 - val_loss: 0.0967 - val_acc: 0.9685\n",
            "Epoch 13/30\n",
            "885/885 [==============================] - 1s 2ms/step - loss: 0.0731 - acc: 0.9751 - val_loss: 0.0975 - val_acc: 0.9640\n",
            "Epoch 14/30\n",
            "885/885 [==============================] - 1s 2ms/step - loss: 0.0729 - acc: 0.9774 - val_loss: 0.1028 - val_acc: 0.9685\n",
            "Epoch 15/30\n",
            "885/885 [==============================] - 1s 2ms/step - loss: 0.0731 - acc: 0.9751 - val_loss: 0.1017 - val_acc: 0.9595\n",
            "Epoch 16/30\n",
            "885/885 [==============================] - 1s 2ms/step - loss: 0.0724 - acc: 0.9729 - val_loss: 0.1037 - val_acc: 0.9595\n",
            "Epoch 17/30\n",
            "885/885 [==============================] - 1s 2ms/step - loss: 0.0716 - acc: 0.9740 - val_loss: 0.1008 - val_acc: 0.9595\n",
            "Epoch 18/30\n",
            "885/885 [==============================] - 1s 2ms/step - loss: 0.0706 - acc: 0.9729 - val_loss: 0.1054 - val_acc: 0.9685\n",
            "Epoch 19/30\n",
            "885/885 [==============================] - 1s 2ms/step - loss: 0.0711 - acc: 0.9763 - val_loss: 0.1023 - val_acc: 0.9595\n",
            "Epoch 20/30\n",
            "885/885 [==============================] - 1s 2ms/step - loss: 0.0698 - acc: 0.9751 - val_loss: 0.1083 - val_acc: 0.9595\n",
            "Epoch 21/30\n",
            "885/885 [==============================] - 1s 2ms/step - loss: 0.0687 - acc: 0.9751 - val_loss: 0.1081 - val_acc: 0.9685\n",
            "Epoch 22/30\n",
            "885/885 [==============================] - 1s 2ms/step - loss: 0.0682 - acc: 0.9763 - val_loss: 0.1085 - val_acc: 0.9595\n",
            "Epoch 23/30\n",
            "885/885 [==============================] - 1s 2ms/step - loss: 0.0678 - acc: 0.9763 - val_loss: 0.1083 - val_acc: 0.9595\n",
            "Epoch 24/30\n",
            "885/885 [==============================] - 1s 2ms/step - loss: 0.0672 - acc: 0.9763 - val_loss: 0.1162 - val_acc: 0.9595\n",
            "Epoch 25/30\n",
            "885/885 [==============================] - 1s 2ms/step - loss: 0.0663 - acc: 0.9751 - val_loss: 0.1170 - val_acc: 0.9595\n",
            "Epoch 26/30\n",
            "885/885 [==============================] - 1s 2ms/step - loss: 0.0659 - acc: 0.9740 - val_loss: 0.1116 - val_acc: 0.9595\n",
            "Epoch 27/30\n",
            "885/885 [==============================] - 1s 2ms/step - loss: 0.0648 - acc: 0.9763 - val_loss: 0.1161 - val_acc: 0.9685\n",
            "Epoch 28/30\n",
            "885/885 [==============================] - 1s 2ms/step - loss: 0.0639 - acc: 0.9751 - val_loss: 0.1176 - val_acc: 0.9595\n",
            "Epoch 29/30\n",
            "885/885 [==============================] - 1s 2ms/step - loss: 0.0635 - acc: 0.9740 - val_loss: 0.1239 - val_acc: 0.9640\n",
            "Epoch 30/30\n",
            "885/885 [==============================] - 1s 2ms/step - loss: 0.0630 - acc: 0.9774 - val_loss: 0.1268 - val_acc: 0.9640\n",
            "Using seed 735\n",
            "Shapes of training and test subsets\n",
            "X_train (885, 11)\n",
            "X_test (222, 11)\n",
            "Y_train (885,)\n",
            "Y_test (222,)\n"
          ],
          "name": "stdout"
        },
        {
          "output_type": "stream",
          "text": [
            "/usr/local/lib/python3.6/dist-packages/sklearn/utils/validation.py:595: DataConversionWarning: Data with input dtype int64 was converted to float64 by StandardScaler.\n",
            "  warnings.warn(msg, DataConversionWarning)\n",
            "/usr/local/lib/python3.6/dist-packages/sklearn/utils/validation.py:595: DataConversionWarning: Data with input dtype int64 was converted to float64 by StandardScaler.\n",
            "  warnings.warn(msg, DataConversionWarning)\n"
          ],
          "name": "stderr"
        },
        {
          "output_type": "stream",
          "text": [
            "Train on 885 samples, validate on 222 samples\n",
            "Epoch 1/30\n",
            "885/885 [==============================] - 2s 3ms/step - loss: 0.0841 - acc: 0.9684 - val_loss: 0.0436 - val_acc: 0.9865\n",
            "Epoch 2/30\n",
            "885/885 [==============================] - 1s 2ms/step - loss: 0.0807 - acc: 0.9695 - val_loss: 0.0440 - val_acc: 0.9865\n",
            "Epoch 3/30\n",
            "885/885 [==============================] - 1s 2ms/step - loss: 0.0791 - acc: 0.9729 - val_loss: 0.0451 - val_acc: 0.9865\n",
            "Epoch 4/30\n",
            "885/885 [==============================] - 1s 2ms/step - loss: 0.0787 - acc: 0.9706 - val_loss: 0.0436 - val_acc: 0.9865\n",
            "Epoch 5/30\n",
            "885/885 [==============================] - 1s 2ms/step - loss: 0.0775 - acc: 0.9718 - val_loss: 0.0434 - val_acc: 0.9865\n",
            "Epoch 6/30\n",
            "885/885 [==============================] - 1s 2ms/step - loss: 0.0770 - acc: 0.9740 - val_loss: 0.0454 - val_acc: 0.9865\n",
            "Epoch 7/30\n",
            "885/885 [==============================] - 1s 2ms/step - loss: 0.0767 - acc: 0.9729 - val_loss: 0.0502 - val_acc: 0.9865\n",
            "Epoch 8/30\n",
            "885/885 [==============================] - 1s 2ms/step - loss: 0.0756 - acc: 0.9740 - val_loss: 0.0511 - val_acc: 0.9865\n",
            "Epoch 9/30\n",
            "885/885 [==============================] - 1s 2ms/step - loss: 0.0767 - acc: 0.9729 - val_loss: 0.0513 - val_acc: 0.9865\n",
            "Epoch 10/30\n",
            "885/885 [==============================] - 1s 2ms/step - loss: 0.0763 - acc: 0.9751 - val_loss: 0.0511 - val_acc: 0.9865\n",
            "Epoch 11/30\n",
            "885/885 [==============================] - 1s 2ms/step - loss: 0.0747 - acc: 0.9740 - val_loss: 0.0486 - val_acc: 0.9865\n",
            "Epoch 12/30\n",
            "885/885 [==============================] - 1s 2ms/step - loss: 0.0757 - acc: 0.9718 - val_loss: 0.0507 - val_acc: 0.9865\n",
            "Epoch 13/30\n",
            "885/885 [==============================] - 2s 2ms/step - loss: 0.0751 - acc: 0.9718 - val_loss: 0.0484 - val_acc: 0.9865\n",
            "Epoch 14/30\n",
            "885/885 [==============================] - 2s 2ms/step - loss: 0.0748 - acc: 0.9740 - val_loss: 0.0478 - val_acc: 0.9865\n",
            "Epoch 15/30\n",
            "885/885 [==============================] - 2s 2ms/step - loss: 0.0750 - acc: 0.9763 - val_loss: 0.0495 - val_acc: 0.9865\n",
            "Epoch 16/30\n",
            "885/885 [==============================] - 2s 2ms/step - loss: 0.0733 - acc: 0.9729 - val_loss: 0.0468 - val_acc: 0.9865\n",
            "Epoch 17/30\n",
            "885/885 [==============================] - 2s 2ms/step - loss: 0.0758 - acc: 0.9740 - val_loss: 0.0547 - val_acc: 0.9820\n",
            "Epoch 18/30\n",
            "885/885 [==============================] - 2s 2ms/step - loss: 0.0740 - acc: 0.9729 - val_loss: 0.0496 - val_acc: 0.9865\n",
            "Epoch 19/30\n",
            "885/885 [==============================] - 1s 2ms/step - loss: 0.0736 - acc: 0.9740 - val_loss: 0.0484 - val_acc: 0.9865\n",
            "Epoch 20/30\n",
            "885/885 [==============================] - 1s 2ms/step - loss: 0.0727 - acc: 0.9751 - val_loss: 0.0471 - val_acc: 0.9865\n",
            "Epoch 21/30\n",
            "885/885 [==============================] - 1s 2ms/step - loss: 0.0748 - acc: 0.9740 - val_loss: 0.0487 - val_acc: 0.9865\n",
            "Epoch 22/30\n",
            "885/885 [==============================] - 1s 2ms/step - loss: 0.0723 - acc: 0.9774 - val_loss: 0.0494 - val_acc: 0.9865\n",
            "Epoch 23/30\n",
            "885/885 [==============================] - 1s 2ms/step - loss: 0.0723 - acc: 0.9763 - val_loss: 0.0518 - val_acc: 0.9865\n",
            "Epoch 24/30\n",
            "885/885 [==============================] - 1s 2ms/step - loss: 0.0715 - acc: 0.9740 - val_loss: 0.0485 - val_acc: 0.9865\n",
            "Epoch 25/30\n",
            "885/885 [==============================] - 1s 2ms/step - loss: 0.0728 - acc: 0.9718 - val_loss: 0.0510 - val_acc: 0.9865\n",
            "Epoch 26/30\n",
            "885/885 [==============================] - 1s 2ms/step - loss: 0.0719 - acc: 0.9763 - val_loss: 0.0551 - val_acc: 0.9820\n",
            "Epoch 27/30\n",
            "885/885 [==============================] - 1s 2ms/step - loss: 0.0709 - acc: 0.9751 - val_loss: 0.0515 - val_acc: 0.9865\n",
            "Epoch 28/30\n",
            "885/885 [==============================] - 1s 2ms/step - loss: 0.0705 - acc: 0.9718 - val_loss: 0.0484 - val_acc: 0.9865\n",
            "Epoch 29/30\n",
            "885/885 [==============================] - 1s 2ms/step - loss: 0.0713 - acc: 0.9729 - val_loss: 0.0490 - val_acc: 0.9865\n",
            "Epoch 30/30\n",
            "885/885 [==============================] - 1s 1ms/step - loss: 0.0703 - acc: 0.9774 - val_loss: 0.0492 - val_acc: 0.9865\n",
            "Using seed 733\n",
            "Shapes of training and test subsets\n",
            "X_train (885, 11)\n",
            "X_test (222, 11)\n",
            "Y_train (885,)\n",
            "Y_test (222,)\n"
          ],
          "name": "stdout"
        },
        {
          "output_type": "stream",
          "text": [
            "/usr/local/lib/python3.6/dist-packages/sklearn/utils/validation.py:595: DataConversionWarning: Data with input dtype int64 was converted to float64 by StandardScaler.\n",
            "  warnings.warn(msg, DataConversionWarning)\n",
            "/usr/local/lib/python3.6/dist-packages/sklearn/utils/validation.py:595: DataConversionWarning: Data with input dtype int64 was converted to float64 by StandardScaler.\n",
            "  warnings.warn(msg, DataConversionWarning)\n"
          ],
          "name": "stderr"
        },
        {
          "output_type": "stream",
          "text": [
            "Train on 885 samples, validate on 222 samples\n",
            "Epoch 1/30\n",
            "885/885 [==============================] - 2s 3ms/step - loss: 0.0671 - acc: 0.9785 - val_loss: 0.0739 - val_acc: 0.9775\n",
            "Epoch 2/30\n",
            "885/885 [==============================] - 1s 2ms/step - loss: 0.0623 - acc: 0.9797 - val_loss: 0.0861 - val_acc: 0.9685\n",
            "Epoch 3/30\n",
            "885/885 [==============================] - 1s 1ms/step - loss: 0.0630 - acc: 0.9774 - val_loss: 0.0797 - val_acc: 0.9775\n",
            "Epoch 4/30\n",
            "885/885 [==============================] - 1s 2ms/step - loss: 0.0627 - acc: 0.9785 - val_loss: 0.0840 - val_acc: 0.9685\n",
            "Epoch 5/30\n",
            "885/885 [==============================] - 1s 2ms/step - loss: 0.0631 - acc: 0.9797 - val_loss: 0.0815 - val_acc: 0.9730\n",
            "Epoch 6/30\n",
            "885/885 [==============================] - 1s 2ms/step - loss: 0.0610 - acc: 0.9797 - val_loss: 0.0842 - val_acc: 0.9685\n",
            "Epoch 7/30\n",
            "885/885 [==============================] - 1s 1ms/step - loss: 0.0603 - acc: 0.9797 - val_loss: 0.0877 - val_acc: 0.9640\n",
            "Epoch 8/30\n",
            "885/885 [==============================] - 1s 1ms/step - loss: 0.0614 - acc: 0.9808 - val_loss: 0.0996 - val_acc: 0.9685\n",
            "Epoch 9/30\n",
            "885/885 [==============================] - 1s 2ms/step - loss: 0.0614 - acc: 0.9785 - val_loss: 0.0917 - val_acc: 0.9685\n",
            "Epoch 10/30\n",
            "885/885 [==============================] - 1s 2ms/step - loss: 0.0604 - acc: 0.9785 - val_loss: 0.0861 - val_acc: 0.9640\n",
            "Epoch 11/30\n",
            "885/885 [==============================] - 1s 2ms/step - loss: 0.0602 - acc: 0.9785 - val_loss: 0.0909 - val_acc: 0.9640\n",
            "Epoch 12/30\n",
            "885/885 [==============================] - 1s 2ms/step - loss: 0.0587 - acc: 0.9797 - val_loss: 0.0836 - val_acc: 0.9640\n",
            "Epoch 13/30\n",
            "885/885 [==============================] - 1s 2ms/step - loss: 0.0597 - acc: 0.9797 - val_loss: 0.0946 - val_acc: 0.9640\n",
            "Epoch 14/30\n",
            "885/885 [==============================] - 1s 2ms/step - loss: 0.0591 - acc: 0.9785 - val_loss: 0.0908 - val_acc: 0.9640\n",
            "Epoch 15/30\n",
            "885/885 [==============================] - 1s 2ms/step - loss: 0.0606 - acc: 0.9785 - val_loss: 0.0904 - val_acc: 0.9730\n",
            "Epoch 16/30\n",
            "885/885 [==============================] - 1s 2ms/step - loss: 0.0580 - acc: 0.9785 - val_loss: 0.0950 - val_acc: 0.9685\n",
            "Epoch 17/30\n",
            "885/885 [==============================] - 1s 2ms/step - loss: 0.0592 - acc: 0.9774 - val_loss: 0.0883 - val_acc: 0.9640\n",
            "Epoch 18/30\n",
            "885/885 [==============================] - 1s 2ms/step - loss: 0.0588 - acc: 0.9797 - val_loss: 0.1000 - val_acc: 0.9685\n",
            "Epoch 19/30\n",
            "885/885 [==============================] - 1s 2ms/step - loss: 0.0582 - acc: 0.9774 - val_loss: 0.1065 - val_acc: 0.9685\n",
            "Epoch 20/30\n",
            "885/885 [==============================] - 1s 2ms/step - loss: 0.0586 - acc: 0.9785 - val_loss: 0.0875 - val_acc: 0.9730\n",
            "Epoch 21/30\n",
            "885/885 [==============================] - 1s 2ms/step - loss: 0.0590 - acc: 0.9774 - val_loss: 0.0906 - val_acc: 0.9640\n",
            "Epoch 22/30\n",
            "885/885 [==============================] - 1s 2ms/step - loss: 0.0573 - acc: 0.9785 - val_loss: 0.0891 - val_acc: 0.9640\n",
            "Epoch 23/30\n",
            "885/885 [==============================] - 1s 2ms/step - loss: 0.0562 - acc: 0.9797 - val_loss: 0.1025 - val_acc: 0.9640\n",
            "Epoch 24/30\n",
            "885/885 [==============================] - 1s 2ms/step - loss: 0.0562 - acc: 0.9797 - val_loss: 0.0899 - val_acc: 0.9640\n",
            "Epoch 25/30\n",
            "885/885 [==============================] - 1s 2ms/step - loss: 0.0566 - acc: 0.9797 - val_loss: 0.0900 - val_acc: 0.9685\n",
            "Epoch 26/30\n",
            "885/885 [==============================] - 1s 2ms/step - loss: 0.0561 - acc: 0.9797 - val_loss: 0.0913 - val_acc: 0.9640\n",
            "Epoch 27/30\n",
            "885/885 [==============================] - 1s 2ms/step - loss: 0.0557 - acc: 0.9797 - val_loss: 0.0943 - val_acc: 0.9685\n",
            "Epoch 28/30\n",
            "885/885 [==============================] - 1s 2ms/step - loss: 0.0553 - acc: 0.9797 - val_loss: 0.1025 - val_acc: 0.9640\n",
            "Epoch 29/30\n",
            "885/885 [==============================] - 1s 2ms/step - loss: 0.0551 - acc: 0.9808 - val_loss: 0.0990 - val_acc: 0.9640\n",
            "Epoch 30/30\n",
            "885/885 [==============================] - 1s 2ms/step - loss: 0.0542 - acc: 0.9819 - val_loss: 0.0892 - val_acc: 0.9685\n",
            "Using seed 728\n",
            "Shapes of training and test subsets\n",
            "X_train (885, 11)\n",
            "X_test (222, 11)\n",
            "Y_train (885,)\n",
            "Y_test (222,)\n"
          ],
          "name": "stdout"
        },
        {
          "output_type": "stream",
          "text": [
            "/usr/local/lib/python3.6/dist-packages/sklearn/utils/validation.py:595: DataConversionWarning: Data with input dtype int64 was converted to float64 by StandardScaler.\n",
            "  warnings.warn(msg, DataConversionWarning)\n",
            "/usr/local/lib/python3.6/dist-packages/sklearn/utils/validation.py:595: DataConversionWarning: Data with input dtype int64 was converted to float64 by StandardScaler.\n",
            "  warnings.warn(msg, DataConversionWarning)\n"
          ],
          "name": "stderr"
        },
        {
          "output_type": "stream",
          "text": [
            "Train on 885 samples, validate on 222 samples\n",
            "Epoch 1/30\n",
            "885/885 [==============================] - 2s 3ms/step - loss: 0.0553 - acc: 0.9819 - val_loss: 0.1164 - val_acc: 0.9505\n",
            "Epoch 2/30\n",
            "885/885 [==============================] - 1s 2ms/step - loss: 0.0500 - acc: 0.9831 - val_loss: 0.1101 - val_acc: 0.9505\n",
            "Epoch 3/30\n",
            "885/885 [==============================] - 1s 2ms/step - loss: 0.0488 - acc: 0.9819 - val_loss: 0.1068 - val_acc: 0.9640\n",
            "Epoch 4/30\n",
            "885/885 [==============================] - 1s 2ms/step - loss: 0.0482 - acc: 0.9831 - val_loss: 0.1074 - val_acc: 0.9595\n",
            "Epoch 5/30\n",
            "885/885 [==============================] - 1s 2ms/step - loss: 0.0479 - acc: 0.9842 - val_loss: 0.1087 - val_acc: 0.9550\n",
            "Epoch 6/30\n",
            "885/885 [==============================] - 2s 2ms/step - loss: 0.0470 - acc: 0.9842 - val_loss: 0.1155 - val_acc: 0.9550\n",
            "Epoch 7/30\n",
            "885/885 [==============================] - 2s 2ms/step - loss: 0.0462 - acc: 0.9842 - val_loss: 0.1151 - val_acc: 0.9595\n",
            "Epoch 8/30\n",
            "885/885 [==============================] - 2s 2ms/step - loss: 0.0492 - acc: 0.9808 - val_loss: 0.1171 - val_acc: 0.9550\n",
            "Epoch 9/30\n",
            "885/885 [==============================] - 1s 2ms/step - loss: 0.0456 - acc: 0.9819 - val_loss: 0.1215 - val_acc: 0.9550\n",
            "Epoch 10/30\n",
            "885/885 [==============================] - 1s 2ms/step - loss: 0.0444 - acc: 0.9842 - val_loss: 0.1156 - val_acc: 0.9550\n",
            "Epoch 11/30\n",
            "885/885 [==============================] - 1s 2ms/step - loss: 0.0447 - acc: 0.9831 - val_loss: 0.1198 - val_acc: 0.9595\n",
            "Epoch 12/30\n",
            "885/885 [==============================] - 1s 2ms/step - loss: 0.0431 - acc: 0.9831 - val_loss: 0.1205 - val_acc: 0.9550\n",
            "Epoch 13/30\n",
            "885/885 [==============================] - 1s 2ms/step - loss: 0.0444 - acc: 0.9831 - val_loss: 0.1211 - val_acc: 0.9595\n",
            "Epoch 14/30\n",
            "885/885 [==============================] - 1s 2ms/step - loss: 0.0442 - acc: 0.9819 - val_loss: 0.1185 - val_acc: 0.9595\n",
            "Epoch 15/30\n",
            "885/885 [==============================] - 1s 1ms/step - loss: 0.0455 - acc: 0.9819 - val_loss: 0.1215 - val_acc: 0.9550\n",
            "Epoch 16/30\n",
            "885/885 [==============================] - 1s 1ms/step - loss: 0.0440 - acc: 0.9842 - val_loss: 0.1184 - val_acc: 0.9595\n",
            "Epoch 17/30\n",
            "885/885 [==============================] - 1s 2ms/step - loss: 0.0435 - acc: 0.9842 - val_loss: 0.1250 - val_acc: 0.9550\n",
            "Epoch 18/30\n",
            "885/885 [==============================] - 1s 2ms/step - loss: 0.0436 - acc: 0.9819 - val_loss: 0.1268 - val_acc: 0.9595\n",
            "Epoch 19/30\n",
            "885/885 [==============================] - 1s 2ms/step - loss: 0.0416 - acc: 0.9853 - val_loss: 0.1310 - val_acc: 0.9505\n",
            "Epoch 20/30\n",
            "885/885 [==============================] - 1s 2ms/step - loss: 0.0421 - acc: 0.9831 - val_loss: 0.1285 - val_acc: 0.9550\n",
            "Epoch 21/30\n",
            "885/885 [==============================] - 1s 2ms/step - loss: 0.0412 - acc: 0.9842 - val_loss: 0.1308 - val_acc: 0.9595\n",
            "Epoch 22/30\n",
            "885/885 [==============================] - 1s 2ms/step - loss: 0.0427 - acc: 0.9842 - val_loss: 0.1393 - val_acc: 0.9550\n",
            "Epoch 23/30\n",
            "885/885 [==============================] - 1s 2ms/step - loss: 0.0405 - acc: 0.9853 - val_loss: 0.1324 - val_acc: 0.9595\n",
            "Epoch 24/30\n",
            "885/885 [==============================] - 1s 2ms/step - loss: 0.0424 - acc: 0.9842 - val_loss: 0.1450 - val_acc: 0.9505\n",
            "Epoch 25/30\n",
            "885/885 [==============================] - 1s 2ms/step - loss: 0.0391 - acc: 0.9853 - val_loss: 0.1404 - val_acc: 0.9505\n",
            "Epoch 26/30\n",
            "885/885 [==============================] - 1s 2ms/step - loss: 0.0416 - acc: 0.9853 - val_loss: 0.1360 - val_acc: 0.9505\n",
            "Epoch 27/30\n",
            "885/885 [==============================] - 1s 2ms/step - loss: 0.0405 - acc: 0.9853 - val_loss: 0.1440 - val_acc: 0.9550\n",
            "Epoch 28/30\n",
            "885/885 [==============================] - 1s 2ms/step - loss: 0.0397 - acc: 0.9853 - val_loss: 0.1462 - val_acc: 0.9550\n",
            "Epoch 29/30\n",
            "885/885 [==============================] - 1s 2ms/step - loss: 0.0402 - acc: 0.9864 - val_loss: 0.1375 - val_acc: 0.9550\n",
            "Epoch 30/30\n",
            "885/885 [==============================] - 1s 2ms/step - loss: 0.0445 - acc: 0.9842 - val_loss: 0.1348 - val_acc: 0.9550\n",
            "Using seed 733\n",
            "Shapes of training and test subsets\n",
            "X_train (885, 11)\n",
            "X_test (222, 11)\n",
            "Y_train (885,)\n",
            "Y_test (222,)\n"
          ],
          "name": "stdout"
        },
        {
          "output_type": "stream",
          "text": [
            "/usr/local/lib/python3.6/dist-packages/sklearn/utils/validation.py:595: DataConversionWarning: Data with input dtype int64 was converted to float64 by StandardScaler.\n",
            "  warnings.warn(msg, DataConversionWarning)\n",
            "/usr/local/lib/python3.6/dist-packages/sklearn/utils/validation.py:595: DataConversionWarning: Data with input dtype int64 was converted to float64 by StandardScaler.\n",
            "  warnings.warn(msg, DataConversionWarning)\n"
          ],
          "name": "stderr"
        },
        {
          "output_type": "stream",
          "text": [
            "Train on 885 samples, validate on 222 samples\n",
            "Epoch 1/30\n",
            "885/885 [==============================] - 2s 3ms/step - loss: 0.0587 - acc: 0.9797 - val_loss: 0.0668 - val_acc: 0.9775\n",
            "Epoch 2/30\n",
            "885/885 [==============================] - 1s 2ms/step - loss: 0.0563 - acc: 0.9785 - val_loss: 0.0778 - val_acc: 0.9730\n",
            "Epoch 3/30\n",
            "885/885 [==============================] - 1s 2ms/step - loss: 0.0530 - acc: 0.9797 - val_loss: 0.0749 - val_acc: 0.9730\n",
            "Epoch 4/30\n",
            "885/885 [==============================] - 1s 2ms/step - loss: 0.0514 - acc: 0.9797 - val_loss: 0.0774 - val_acc: 0.9730\n",
            "Epoch 5/30\n",
            "885/885 [==============================] - 1s 2ms/step - loss: 0.0509 - acc: 0.9797 - val_loss: 0.0855 - val_acc: 0.9685\n",
            "Epoch 6/30\n",
            "885/885 [==============================] - 1s 1ms/step - loss: 0.0495 - acc: 0.9808 - val_loss: 0.0757 - val_acc: 0.9730\n",
            "Epoch 7/30\n",
            "885/885 [==============================] - 1s 2ms/step - loss: 0.0500 - acc: 0.9808 - val_loss: 0.0790 - val_acc: 0.9730\n",
            "Epoch 8/30\n",
            "885/885 [==============================] - 1s 2ms/step - loss: 0.0509 - acc: 0.9797 - val_loss: 0.0765 - val_acc: 0.9775\n",
            "Epoch 9/30\n",
            "885/885 [==============================] - 1s 2ms/step - loss: 0.0485 - acc: 0.9797 - val_loss: 0.0789 - val_acc: 0.9685\n",
            "Epoch 10/30\n",
            "885/885 [==============================] - 1s 2ms/step - loss: 0.0488 - acc: 0.9797 - val_loss: 0.0761 - val_acc: 0.9775\n",
            "Epoch 11/30\n",
            "885/885 [==============================] - 1s 2ms/step - loss: 0.0470 - acc: 0.9808 - val_loss: 0.0739 - val_acc: 0.9775\n",
            "Epoch 12/30\n",
            "885/885 [==============================] - 1s 2ms/step - loss: 0.0476 - acc: 0.9808 - val_loss: 0.0758 - val_acc: 0.9730\n",
            "Epoch 13/30\n",
            "885/885 [==============================] - 1s 2ms/step - loss: 0.0469 - acc: 0.9808 - val_loss: 0.0890 - val_acc: 0.9730\n",
            "Epoch 14/30\n",
            "885/885 [==============================] - 1s 2ms/step - loss: 0.0499 - acc: 0.9797 - val_loss: 0.0912 - val_acc: 0.9685\n",
            "Epoch 15/30\n",
            "885/885 [==============================] - 1s 2ms/step - loss: 0.0474 - acc: 0.9808 - val_loss: 0.0858 - val_acc: 0.9685\n",
            "Epoch 16/30\n",
            "885/885 [==============================] - 1s 2ms/step - loss: 0.0509 - acc: 0.9774 - val_loss: 0.0758 - val_acc: 0.9775\n",
            "Epoch 17/30\n",
            "885/885 [==============================] - 1s 2ms/step - loss: 0.0471 - acc: 0.9808 - val_loss: 0.0957 - val_acc: 0.9730\n",
            "Epoch 18/30\n",
            "885/885 [==============================] - 1s 2ms/step - loss: 0.0487 - acc: 0.9831 - val_loss: 0.0809 - val_acc: 0.9730\n",
            "Epoch 19/30\n",
            "885/885 [==============================] - 1s 2ms/step - loss: 0.0469 - acc: 0.9808 - val_loss: 0.0929 - val_acc: 0.9595\n",
            "Epoch 20/30\n",
            "885/885 [==============================] - 1s 2ms/step - loss: 0.0442 - acc: 0.9842 - val_loss: 0.0926 - val_acc: 0.9595\n",
            "Epoch 21/30\n",
            "885/885 [==============================] - 1s 2ms/step - loss: 0.0446 - acc: 0.9819 - val_loss: 0.0860 - val_acc: 0.9640\n",
            "Epoch 22/30\n",
            "885/885 [==============================] - 1s 2ms/step - loss: 0.0449 - acc: 0.9831 - val_loss: 0.0839 - val_acc: 0.9730\n",
            "Epoch 23/30\n",
            "885/885 [==============================] - 1s 2ms/step - loss: 0.0452 - acc: 0.9808 - val_loss: 0.0848 - val_acc: 0.9685\n",
            "Epoch 24/30\n",
            "885/885 [==============================] - 1s 2ms/step - loss: 0.0442 - acc: 0.9842 - val_loss: 0.0890 - val_acc: 0.9685\n",
            "Epoch 25/30\n",
            "885/885 [==============================] - 1s 2ms/step - loss: 0.0422 - acc: 0.9853 - val_loss: 0.0917 - val_acc: 0.9640\n",
            "Epoch 26/30\n",
            "885/885 [==============================] - 1s 2ms/step - loss: 0.0440 - acc: 0.9831 - val_loss: 0.0874 - val_acc: 0.9730\n",
            "Epoch 27/30\n",
            "885/885 [==============================] - 1s 1ms/step - loss: 0.0435 - acc: 0.9842 - val_loss: 0.1066 - val_acc: 0.9640\n",
            "Epoch 28/30\n",
            "885/885 [==============================] - 1s 2ms/step - loss: 0.0433 - acc: 0.9831 - val_loss: 0.0926 - val_acc: 0.9685\n",
            "Epoch 29/30\n",
            "885/885 [==============================] - 1s 2ms/step - loss: 0.0450 - acc: 0.9864 - val_loss: 0.0870 - val_acc: 0.9685\n",
            "Epoch 30/30\n",
            "885/885 [==============================] - 1s 1ms/step - loss: 0.0432 - acc: 0.9831 - val_loss: 0.1087 - val_acc: 0.9640\n",
            "Using seed 734\n",
            "Shapes of training and test subsets\n",
            "X_train (885, 11)\n",
            "X_test (222, 11)\n",
            "Y_train (885,)\n",
            "Y_test (222,)\n"
          ],
          "name": "stdout"
        },
        {
          "output_type": "stream",
          "text": [
            "/usr/local/lib/python3.6/dist-packages/sklearn/utils/validation.py:595: DataConversionWarning: Data with input dtype int64 was converted to float64 by StandardScaler.\n",
            "  warnings.warn(msg, DataConversionWarning)\n",
            "/usr/local/lib/python3.6/dist-packages/sklearn/utils/validation.py:595: DataConversionWarning: Data with input dtype int64 was converted to float64 by StandardScaler.\n",
            "  warnings.warn(msg, DataConversionWarning)\n"
          ],
          "name": "stderr"
        },
        {
          "output_type": "stream",
          "text": [
            "Train on 885 samples, validate on 222 samples\n",
            "Epoch 1/30\n",
            "885/885 [==============================] - 2s 3ms/step - loss: 0.0602 - acc: 0.9819 - val_loss: 0.0736 - val_acc: 0.9685\n",
            "Epoch 2/30\n",
            "885/885 [==============================] - 1s 2ms/step - loss: 0.0537 - acc: 0.9819 - val_loss: 0.0818 - val_acc: 0.9685\n",
            "Epoch 3/30\n",
            "885/885 [==============================] - 1s 2ms/step - loss: 0.0505 - acc: 0.9842 - val_loss: 0.0712 - val_acc: 0.9730\n",
            "Epoch 4/30\n",
            "885/885 [==============================] - 1s 2ms/step - loss: 0.0496 - acc: 0.9831 - val_loss: 0.0644 - val_acc: 0.9730\n",
            "Epoch 5/30\n",
            "885/885 [==============================] - 1s 2ms/step - loss: 0.0467 - acc: 0.9819 - val_loss: 0.0737 - val_acc: 0.9775\n",
            "Epoch 6/30\n",
            "885/885 [==============================] - 1s 2ms/step - loss: 0.0463 - acc: 0.9842 - val_loss: 0.0737 - val_acc: 0.9730\n",
            "Epoch 7/30\n",
            "885/885 [==============================] - 1s 2ms/step - loss: 0.0483 - acc: 0.9831 - val_loss: 0.0818 - val_acc: 0.9775\n",
            "Epoch 8/30\n",
            "885/885 [==============================] - 1s 2ms/step - loss: 0.0462 - acc: 0.9842 - val_loss: 0.1102 - val_acc: 0.9730\n",
            "Epoch 9/30\n",
            "885/885 [==============================] - 1s 2ms/step - loss: 0.0519 - acc: 0.9797 - val_loss: 0.0913 - val_acc: 0.9775\n",
            "Epoch 10/30\n",
            "885/885 [==============================] - 1s 2ms/step - loss: 0.0453 - acc: 0.9831 - val_loss: 0.0928 - val_acc: 0.9685\n",
            "Epoch 11/30\n",
            "885/885 [==============================] - 1s 2ms/step - loss: 0.0449 - acc: 0.9853 - val_loss: 0.1041 - val_acc: 0.9730\n",
            "Epoch 12/30\n",
            "885/885 [==============================] - 1s 2ms/step - loss: 0.0477 - acc: 0.9808 - val_loss: 0.1244 - val_acc: 0.9685\n",
            "Epoch 13/30\n",
            "885/885 [==============================] - 1s 2ms/step - loss: 0.0478 - acc: 0.9819 - val_loss: 0.1021 - val_acc: 0.9775\n",
            "Epoch 14/30\n",
            "885/885 [==============================] - 1s 2ms/step - loss: 0.0439 - acc: 0.9842 - val_loss: 0.1067 - val_acc: 0.9730\n",
            "Epoch 15/30\n",
            "885/885 [==============================] - 1s 2ms/step - loss: 0.0432 - acc: 0.9842 - val_loss: 0.1069 - val_acc: 0.9775\n",
            "Epoch 16/30\n",
            "885/885 [==============================] - 1s 2ms/step - loss: 0.0423 - acc: 0.9842 - val_loss: 0.1075 - val_acc: 0.9775\n",
            "Epoch 17/30\n",
            "885/885 [==============================] - 1s 2ms/step - loss: 0.0424 - acc: 0.9831 - val_loss: 0.1156 - val_acc: 0.9775\n",
            "Epoch 18/30\n",
            "885/885 [==============================] - 1s 2ms/step - loss: 0.0417 - acc: 0.9853 - val_loss: 0.1188 - val_acc: 0.9775\n",
            "Epoch 19/30\n",
            "885/885 [==============================] - 1s 2ms/step - loss: 0.0414 - acc: 0.9842 - val_loss: 0.1250 - val_acc: 0.9775\n",
            "Epoch 20/30\n",
            "885/885 [==============================] - 1s 2ms/step - loss: 0.0414 - acc: 0.9842 - val_loss: 0.1257 - val_acc: 0.9775\n",
            "Epoch 21/30\n",
            "885/885 [==============================] - 1s 2ms/step - loss: 0.0416 - acc: 0.9842 - val_loss: 0.1233 - val_acc: 0.9775\n",
            "Epoch 22/30\n",
            "885/885 [==============================] - 1s 2ms/step - loss: 0.0409 - acc: 0.9831 - val_loss: 0.1335 - val_acc: 0.9730\n",
            "Epoch 23/30\n",
            "885/885 [==============================] - 1s 2ms/step - loss: 0.0412 - acc: 0.9842 - val_loss: 0.1364 - val_acc: 0.9775\n",
            "Epoch 24/30\n",
            "885/885 [==============================] - 1s 2ms/step - loss: 0.0411 - acc: 0.9842 - val_loss: 0.1340 - val_acc: 0.9730\n",
            "Epoch 25/30\n",
            "885/885 [==============================] - 1s 2ms/step - loss: 0.0403 - acc: 0.9831 - val_loss: 0.1401 - val_acc: 0.9685\n",
            "Epoch 26/30\n",
            "885/885 [==============================] - 1s 2ms/step - loss: 0.0499 - acc: 0.9785 - val_loss: 0.1604 - val_acc: 0.9640\n",
            "Epoch 27/30\n",
            "885/885 [==============================] - 1s 2ms/step - loss: 0.0499 - acc: 0.9774 - val_loss: 0.1484 - val_acc: 0.9775\n",
            "Epoch 28/30\n",
            "885/885 [==============================] - 1s 2ms/step - loss: 0.0477 - acc: 0.9797 - val_loss: 0.1449 - val_acc: 0.9730\n",
            "Epoch 29/30\n",
            "885/885 [==============================] - 1s 2ms/step - loss: 0.0403 - acc: 0.9842 - val_loss: 0.1552 - val_acc: 0.9730\n",
            "Epoch 30/30\n",
            "885/885 [==============================] - 1s 2ms/step - loss: 0.0400 - acc: 0.9842 - val_loss: 0.1503 - val_acc: 0.9685\n",
            "Using seed 735\n",
            "Shapes of training and test subsets\n",
            "X_train (885, 11)\n",
            "X_test (222, 11)\n",
            "Y_train (885,)\n",
            "Y_test (222,)\n"
          ],
          "name": "stdout"
        },
        {
          "output_type": "stream",
          "text": [
            "/usr/local/lib/python3.6/dist-packages/sklearn/utils/validation.py:595: DataConversionWarning: Data with input dtype int64 was converted to float64 by StandardScaler.\n",
            "  warnings.warn(msg, DataConversionWarning)\n",
            "/usr/local/lib/python3.6/dist-packages/sklearn/utils/validation.py:595: DataConversionWarning: Data with input dtype int64 was converted to float64 by StandardScaler.\n",
            "  warnings.warn(msg, DataConversionWarning)\n"
          ],
          "name": "stderr"
        },
        {
          "output_type": "stream",
          "text": [
            "Train on 885 samples, validate on 222 samples\n",
            "Epoch 1/30\n",
            "885/885 [==============================] - 2s 3ms/step - loss: 0.0779 - acc: 0.9797 - val_loss: 0.0309 - val_acc: 0.9910\n",
            "Epoch 2/30\n",
            "885/885 [==============================] - 1s 2ms/step - loss: 0.0676 - acc: 0.9808 - val_loss: 0.0292 - val_acc: 0.9910\n",
            "Epoch 3/30\n",
            "885/885 [==============================] - 1s 2ms/step - loss: 0.0613 - acc: 0.9808 - val_loss: 0.0316 - val_acc: 0.9910\n",
            "Epoch 4/30\n",
            "885/885 [==============================] - 1s 2ms/step - loss: 0.0615 - acc: 0.9774 - val_loss: 0.0354 - val_acc: 0.9910\n",
            "Epoch 5/30\n",
            "885/885 [==============================] - 1s 2ms/step - loss: 0.0554 - acc: 0.9819 - val_loss: 0.0326 - val_acc: 0.9910\n",
            "Epoch 6/30\n",
            "885/885 [==============================] - 1s 2ms/step - loss: 0.0548 - acc: 0.9797 - val_loss: 0.0315 - val_acc: 0.9910\n",
            "Epoch 7/30\n",
            "885/885 [==============================] - 1s 2ms/step - loss: 0.0517 - acc: 0.9808 - val_loss: 0.0325 - val_acc: 0.9910\n",
            "Epoch 8/30\n",
            "885/885 [==============================] - 1s 2ms/step - loss: 0.0548 - acc: 0.9763 - val_loss: 0.0342 - val_acc: 0.9910\n",
            "Epoch 9/30\n",
            "885/885 [==============================] - 1s 2ms/step - loss: 0.0510 - acc: 0.9819 - val_loss: 0.0322 - val_acc: 0.9910\n",
            "Epoch 10/30\n",
            "885/885 [==============================] - 1s 2ms/step - loss: 0.0523 - acc: 0.9808 - val_loss: 0.0357 - val_acc: 0.9865\n",
            "Epoch 11/30\n",
            "885/885 [==============================] - 1s 2ms/step - loss: 0.0579 - acc: 0.9797 - val_loss: 0.0317 - val_acc: 0.9910\n",
            "Epoch 12/30\n",
            "885/885 [==============================] - 1s 2ms/step - loss: 0.0580 - acc: 0.9763 - val_loss: 0.0332 - val_acc: 0.9910\n",
            "Epoch 13/30\n",
            "885/885 [==============================] - 1s 2ms/step - loss: 0.0491 - acc: 0.9808 - val_loss: 0.0316 - val_acc: 0.9910\n",
            "Epoch 14/30\n",
            "885/885 [==============================] - 1s 2ms/step - loss: 0.0483 - acc: 0.9819 - val_loss: 0.0317 - val_acc: 0.9910\n",
            "Epoch 15/30\n",
            "885/885 [==============================] - 1s 2ms/step - loss: 0.0472 - acc: 0.9831 - val_loss: 0.0372 - val_acc: 0.9865\n",
            "Epoch 16/30\n",
            "885/885 [==============================] - 1s 2ms/step - loss: 0.0471 - acc: 0.9819 - val_loss: 0.0323 - val_acc: 0.9910\n",
            "Epoch 17/30\n",
            "885/885 [==============================] - 1s 2ms/step - loss: 0.0485 - acc: 0.9831 - val_loss: 0.0331 - val_acc: 0.9910\n",
            "Epoch 18/30\n",
            "885/885 [==============================] - 1s 2ms/step - loss: 0.0478 - acc: 0.9831 - val_loss: 0.0326 - val_acc: 0.9910\n",
            "Epoch 19/30\n",
            "885/885 [==============================] - 1s 2ms/step - loss: 0.0472 - acc: 0.9831 - val_loss: 0.0320 - val_acc: 0.9910\n",
            "Epoch 20/30\n",
            "885/885 [==============================] - 1s 2ms/step - loss: 0.0468 - acc: 0.9831 - val_loss: 0.0330 - val_acc: 0.9910\n",
            "Epoch 21/30\n",
            "885/885 [==============================] - 1s 2ms/step - loss: 0.0474 - acc: 0.9819 - val_loss: 0.0444 - val_acc: 0.9865\n",
            "Epoch 22/30\n",
            "885/885 [==============================] - 1s 2ms/step - loss: 0.0521 - acc: 0.9774 - val_loss: 0.0315 - val_acc: 0.9910\n",
            "Epoch 23/30\n",
            "885/885 [==============================] - 1s 2ms/step - loss: 0.0473 - acc: 0.9819 - val_loss: 0.0349 - val_acc: 0.9910\n",
            "Epoch 24/30\n",
            "885/885 [==============================] - 1s 2ms/step - loss: 0.0476 - acc: 0.9831 - val_loss: 0.0388 - val_acc: 0.9865\n",
            "Epoch 25/30\n",
            "885/885 [==============================] - 1s 2ms/step - loss: 0.0494 - acc: 0.9831 - val_loss: 0.0340 - val_acc: 0.9910\n",
            "Epoch 26/30\n",
            "885/885 [==============================] - 1s 2ms/step - loss: 0.0470 - acc: 0.9831 - val_loss: 0.0338 - val_acc: 0.9910\n",
            "Epoch 27/30\n",
            "885/885 [==============================] - 1s 2ms/step - loss: 0.0604 - acc: 0.9785 - val_loss: 0.0564 - val_acc: 0.9730\n",
            "Epoch 28/30\n",
            "885/885 [==============================] - 1s 2ms/step - loss: 0.0680 - acc: 0.9706 - val_loss: 0.0417 - val_acc: 0.9865\n",
            "Epoch 29/30\n",
            "885/885 [==============================] - 1s 2ms/step - loss: 0.0550 - acc: 0.9763 - val_loss: 0.0327 - val_acc: 0.9910\n",
            "Epoch 30/30\n",
            "885/885 [==============================] - 1s 2ms/step - loss: 0.0480 - acc: 0.9797 - val_loss: 0.0343 - val_acc: 0.9910\n"
          ],
          "name": "stdout"
        }
      ]
    },
    {
      "cell_type": "markdown",
      "metadata": {
        "id": "H67Eb3s3DLXv",
        "colab_type": "text"
      },
      "source": [
        "## **Evalulation**"
      ]
    },
    {
      "cell_type": "code",
      "metadata": {
        "id": "_mrx3ntCDSvO",
        "colab_type": "code",
        "outputId": "56ab99da-e5bd-4d77-ea2b-2c317b3be87a",
        "colab": {
          "base_uri": "https://localhost:8080/",
          "height": 396
        }
      },
      "source": [
        "plt.plot(history['loss'])\n",
        "plt.plot(history['val_loss'])\n",
        "plt.title('model loss')\n",
        "plt.ylabel('loss')\n",
        "plt.xlabel('epoch')\n",
        "plt.legend(['train', 'test'], loc='upper right');"
      ],
      "execution_count": 0,
      "outputs": [
        {
          "output_type": "display_data",
          "data": {
            "image/png": "[encoded data removed]",
            "text/plain": [
              "<Figure size 576x396 with 1 Axes>"
            ]
          },
          "metadata": {
            "tags": []
          }
        }
      ]
    },
    {
      "cell_type": "markdown",
      "metadata": {
        "id": "xIfKnzjDDeMi",
        "colab_type": "text"
      },
      "source": [
        "##**Testing**"
      ]
    },
    {
      "cell_type": "code",
      "metadata": {
        "id": "80y8B2rnDTtJ",
        "colab_type": "code",
        "colab": {}
      },
      "source": [
        "y_pred = nn.predict(X_test)"
      ],
      "execution_count": 0,
      "outputs": []
    },
    {
      "cell_type": "markdown",
      "metadata": {
        "id": "1canBDg1EZgb",
        "colab_type": "text"
      },
      "source": [
        "## **Predictions on Test Subset**"
      ]
    },
    {
      "cell_type": "code",
      "metadata": {
        "id": "uQLaIXoaEReZ",
        "colab_type": "code",
        "outputId": "c990c5c7-b2de-46cc-c697-c22f640f1c2c",
        "colab": {
          "base_uri": "https://localhost:8080/",
          "height": 34
        }
      },
      "source": [
        "from sklearn import metrics\n",
        "fpr, tpr, thresholds = metrics.roc_curve(Y_test,y_pred)\n",
        "threshold = thresholds[np.argmax(tpr - fpr)]\n",
        "threshold"
      ],
      "execution_count": 0,
      "outputs": [
        {
          "output_type": "execute_result",
          "data": {
            "text/plain": [
              "0.24818933"
            ]
          },
          "metadata": {
            "tags": []
          },
          "execution_count": 216
        }
      ]
    },
    {
      "cell_type": "code",
      "metadata": {
        "id": "_7qo_CLQEisZ",
        "colab_type": "code",
        "outputId": "07c370a3-1dbf-41bf-f19b-1a243bbceb18",
        "colab": {
          "base_uri": "https://localhost:8080/",
          "height": 749
        }
      },
      "source": [
        "y_pred = (y_pred > threshold)\n",
        "  \n",
        "conf_matrix = confusion_matrix(Y_test, y_pred)\n",
        "plt.figure(figsize=(12, 12))\n",
        "sns.heatmap(conf_matrix, xticklabels=LABELS, yticklabels=LABELS, annot=True, fmt=\"d\");\n",
        "plt.title(\"Confusion matrix\")\n",
        "plt.ylabel('True class')\n",
        "plt.xlabel('Predicted class')\n",
        "plt.show()"
      ],
      "execution_count": 0,
      "outputs": [
        {
          "output_type": "display_data",
          "data": {
            "image/png": "[encoded data removed]",
            "text/plain": [
              "<Figure size 864x864 with 2 Axes>"
            ]
          },
          "metadata": {
            "tags": []
          }
        }
      ]
    },
    {
      "cell_type": "code",
      "metadata": {
        "id": "ZGW3bW2g2ekq",
        "colab_type": "code",
        "outputId": "bcdef6e1-e90a-4682-c494-bdf71eb4ae0d",
        "colab": {
          "base_uri": "https://localhost:8080/",
          "height": 153
        }
      },
      "source": [
        "z = conf_matrix[0][0] # Correct Negatives\n",
        "h = conf_matrix[1][1] # Hits\n",
        "f = conf_matrix[0][1] # False Alarms\n",
        "m = conf_matrix[1][0] # Misses\n",
        "\n",
        "print(f'Hits: {h}')\n",
        "print(f'Misses: {m}')\n",
        "print(f'False Alarms: {f}')\n",
        "print(f'Correct Negatives: {z}')\n",
        "\n",
        "bias = (f+h)/(m+h)\n",
        "pod = h/(m+h)\n",
        "pond = z/(z+f)\n",
        "accuracy = (z+h)/(z+h+f+m)\n",
        "\n",
        "print(f'Bias: {bias}')\n",
        "print(f'POND: {pond}')\n",
        "print(f'POD: {pod}')\n",
        "print(f'Accuracy: {accuracy}')"
      ],
      "execution_count": 0,
      "outputs": [
        {
          "output_type": "stream",
          "text": [
            "Hits: 14\n",
            "Misses: 2\n",
            "False Alarms: 2\n",
            "Correct Negatives: 204\n",
            "Bias: 1.0\n",
            "POND: 0.9902912621359223\n",
            "POD: 0.875\n",
            "Accuracy: 0.9819819819819819\n"
          ],
          "name": "stdout"
        }
      ]
    },
    {
      "cell_type": "markdown",
      "metadata": {
        "id": "cGOayH7spV7x",
        "colab_type": "text"
      },
      "source": [
        "## Predictions on Dataset"
      ]
    },
    {
      "cell_type": "code",
      "metadata": {
        "id": "ie7p30CXpVLp",
        "colab_type": "code",
        "outputId": "997da191-7216-44f3-91ee-2b1b719136a7",
        "colab": {
          "base_uri": "https://localhost:8080/",
          "height": 306
        }
      },
      "source": [
        "model = load_model('model_nn.h5')\n",
        "model.summary()"
      ],
      "execution_count": 0,
      "outputs": [
        {
          "output_type": "stream",
          "text": [
            "_________________________________________________________________\n",
            "Layer (type)                 Output Shape              Param #   \n",
            "=================================================================\n",
            "dense_41 (Dense)             (None, 12)                144       \n",
            "_________________________________________________________________\n",
            "dense_42 (Dense)             (None, 8)                 104       \n",
            "_________________________________________________________________\n",
            "dense_43 (Dense)             (None, 6)                 54        \n",
            "_________________________________________________________________\n",
            "dense_44 (Dense)             (None, 4)                 28        \n",
            "_________________________________________________________________\n",
            "dense_45 (Dense)             (None, 1)                 5         \n",
            "=================================================================\n",
            "Total params: 335\n",
            "Trainable params: 335\n",
            "Non-trainable params: 0\n",
            "_________________________________________________________________\n"
          ],
          "name": "stdout"
        }
      ]
    },
    {
      "cell_type": "code",
      "metadata": {
        "id": "b5V82QiOps67",
        "colab_type": "code",
        "outputId": "ff7c72e2-4b23-4955-dcae-f451baeddd07",
        "colab": {
          "base_uri": "https://localhost:8080/",
          "height": 204
        }
      },
      "source": [
        "df = pd.read_csv('peds4.csv')\n",
        "df.head()"
      ],
      "execution_count": 0,
      "outputs": [
        {
          "output_type": "execute_result",
          "data": {
            "text/html": [
              "<div>\n",
              "<style scoped>\n",
              "    .dataframe tbody tr th:only-of-type {\n",
              "        vertical-align: middle;\n",
              "    }\n",
              "\n",
              "    .dataframe tbody tr th {\n",
              "        vertical-align: top;\n",
              "    }\n",
              "\n",
              "    .dataframe thead th {\n",
              "        text-align: right;\n",
              "    }\n",
              "</style>\n",
              "<table border=\"1\" class=\"dataframe\">\n",
              "  <thead>\n",
              "    <tr style=\"text-align: right;\">\n",
              "      <th></th>\n",
              "      <th>M</th>\n",
              "      <th>F</th>\n",
              "      <th>2W</th>\n",
              "      <th>Difference</th>\n",
              "      <th>Speed</th>\n",
              "      <th>Distance</th>\n",
              "      <th>Lane 1</th>\n",
              "      <th>Lane 2</th>\n",
              "      <th>Lane 3</th>\n",
              "      <th>4W</th>\n",
              "      <th>Heavy</th>\n",
              "      <th>Accept</th>\n",
              "    </tr>\n",
              "  </thead>\n",
              "  <tbody>\n",
              "    <tr>\n",
              "      <th>0</th>\n",
              "      <td>1</td>\n",
              "      <td>0</td>\n",
              "      <td>0</td>\n",
              "      <td>1.115</td>\n",
              "      <td>17.937220</td>\n",
              "      <td>40</td>\n",
              "      <td>1</td>\n",
              "      <td>0</td>\n",
              "      <td>0</td>\n",
              "      <td>1</td>\n",
              "      <td>0</td>\n",
              "      <td>0</td>\n",
              "    </tr>\n",
              "    <tr>\n",
              "      <th>1</th>\n",
              "      <td>1</td>\n",
              "      <td>0</td>\n",
              "      <td>0</td>\n",
              "      <td>1.071</td>\n",
              "      <td>18.674136</td>\n",
              "      <td>15</td>\n",
              "      <td>1</td>\n",
              "      <td>0</td>\n",
              "      <td>0</td>\n",
              "      <td>1</td>\n",
              "      <td>0</td>\n",
              "      <td>0</td>\n",
              "    </tr>\n",
              "    <tr>\n",
              "      <th>2</th>\n",
              "      <td>1</td>\n",
              "      <td>0</td>\n",
              "      <td>0</td>\n",
              "      <td>1.658</td>\n",
              "      <td>12.062726</td>\n",
              "      <td>28</td>\n",
              "      <td>0</td>\n",
              "      <td>1</td>\n",
              "      <td>0</td>\n",
              "      <td>0</td>\n",
              "      <td>1</td>\n",
              "      <td>0</td>\n",
              "    </tr>\n",
              "    <tr>\n",
              "      <th>3</th>\n",
              "      <td>1</td>\n",
              "      <td>0</td>\n",
              "      <td>0</td>\n",
              "      <td>1.039</td>\n",
              "      <td>19.249278</td>\n",
              "      <td>15</td>\n",
              "      <td>0</td>\n",
              "      <td>1</td>\n",
              "      <td>0</td>\n",
              "      <td>1</td>\n",
              "      <td>0</td>\n",
              "      <td>0</td>\n",
              "    </tr>\n",
              "    <tr>\n",
              "      <th>4</th>\n",
              "      <td>1</td>\n",
              "      <td>0</td>\n",
              "      <td>0</td>\n",
              "      <td>1.219</td>\n",
              "      <td>16.406891</td>\n",
              "      <td>42</td>\n",
              "      <td>1</td>\n",
              "      <td>0</td>\n",
              "      <td>0</td>\n",
              "      <td>0</td>\n",
              "      <td>1</td>\n",
              "      <td>0</td>\n",
              "    </tr>\n",
              "  </tbody>\n",
              "</table>\n",
              "</div>"
            ],
            "text/plain": [
              "   M  F  2W  Difference      Speed  Distance  Lane 1  Lane 2  Lane 3  4W  \\\n",
              "0  1  0   0       1.115  17.937220        40       1       0       0   1   \n",
              "1  1  0   0       1.071  18.674136        15       1       0       0   1   \n",
              "2  1  0   0       1.658  12.062726        28       0       1       0   0   \n",
              "3  1  0   0       1.039  19.249278        15       0       1       0   1   \n",
              "4  1  0   0       1.219  16.406891        42       1       0       0   0   \n",
              "\n",
              "   Heavy  Accept  \n",
              "0      0       0  \n",
              "1      0       0  \n",
              "2      1       0  \n",
              "3      0       0  \n",
              "4      1       0  "
            ]
          },
          "metadata": {
            "tags": []
          },
          "execution_count": 220
        }
      ]
    },
    {
      "cell_type": "code",
      "metadata": {
        "id": "mNL7bc6fpwxC",
        "colab_type": "code",
        "outputId": "ece008eb-1eb8-41a3-cf17-dec436b59264",
        "colab": {
          "base_uri": "https://localhost:8080/",
          "height": 105
        }
      },
      "source": [
        "from sklearn.preprocessing import StandardScaler\n",
        "from sklearn.utils import shuffle\n",
        "\n",
        "df = shuffle(df)\n",
        "df['Difference'] = StandardScaler().fit_transform(df['Difference'].values.reshape(-1, 1))\n",
        "df['Speed'] = StandardScaler().fit_transform(df['Speed'].values.reshape(-1, 1))\n",
        "df['Distance'] = StandardScaler().fit_transform(df['Distance'].values.reshape(-1, 1))"
      ],
      "execution_count": 0,
      "outputs": [
        {
          "output_type": "stream",
          "text": [
            "/usr/local/lib/python3.6/dist-packages/sklearn/utils/validation.py:595: DataConversionWarning: Data with input dtype int64 was converted to float64 by StandardScaler.\n",
            "  warnings.warn(msg, DataConversionWarning)\n",
            "/usr/local/lib/python3.6/dist-packages/sklearn/utils/validation.py:595: DataConversionWarning: Data with input dtype int64 was converted to float64 by StandardScaler.\n",
            "  warnings.warn(msg, DataConversionWarning)\n"
          ],
          "name": "stderr"
        }
      ]
    },
    {
      "cell_type": "code",
      "metadata": {
        "id": "4Ixrnwtrp0yq",
        "colab_type": "code",
        "colab": {}
      },
      "source": [
        "K = 10\n",
        "subsets = np.array_split(df.values,K)"
      ],
      "execution_count": 0,
      "outputs": []
    },
    {
      "cell_type": "code",
      "metadata": {
        "id": "FbabDC7ip88r",
        "colab_type": "code",
        "outputId": "6b0628ae-21e9-4fc8-cd5b-9034debcc478",
        "colab": {
          "base_uri": "https://localhost:8080/",
          "height": 1105
        }
      },
      "source": [
        "accuracy = []\n",
        "bias = []\n",
        "POD = []\n",
        "POND = []\n",
        "\n",
        "\n",
        "for idx,subset in enumerate(subsets):\n",
        "  print(\"Subset \"+str(idx+1))\n",
        "  X = subset[: , :-1]\n",
        "  Y = subset[: , -1]\n",
        "  \n",
        "  Y_pred = nn.predict(X)\n",
        "  cnf_matrix = confusion_matrix(Y, Y_pred.round()) \n",
        "  np.set_printoptions(precision=2)\n",
        "  z = cnf_matrix[0][0] # Correct Negatives\n",
        "  h = cnf_matrix[1][1] # Hits\n",
        "  f = cnf_matrix[0][1] # False Alarms\n",
        "  m = cnf_matrix[1][0] # Misses\n",
        "\n",
        "  b = (f+h)/(m+h)\n",
        "  pod = h/(m+h)\n",
        "  pond = z/(z+f)\n",
        "  acc = (z+h)/(z+h+f+m)\n",
        "  \n",
        "  accuracy.append(acc)\n",
        "  bias.append(b)\n",
        "  POD.append(pod)\n",
        "  POND.append(pond)\n",
        "  \n",
        "  print(f'Bias: {b}')\n",
        "  print(f'POND: {pond}')\n",
        "  print(f'POD: {pod}')\n",
        "  print(f'Accuracy: {acc}')\n",
        "  print(\"-----------------\")\n",
        "  \n",
        "  \n",
        "print(f'Avg Bias: {sum(bias)/len(bias)}')\n",
        "print(f'Avg POND: {sum(POND)/len(POND)}')\n",
        "print(f'Avg POD: {sum(POD)/len(POD)}')\n",
        "print(f'Avg Accuracy: {sum(accuracy)/len(accuracy)}')"
      ],
      "execution_count": 0,
      "outputs": [
        {
          "output_type": "stream",
          "text": [
            "Subset 1\n",
            "Bias: 0.8\n",
            "POND: 1.0\n",
            "POD: 0.8\n",
            "Accuracy: 0.990990990990991\n",
            "-----------------\n",
            "Subset 2\n",
            "Bias: 0.8888888888888888\n",
            "POND: 0.9901960784313726\n",
            "POD: 0.7777777777777778\n",
            "Accuracy: 0.972972972972973\n",
            "-----------------\n",
            "Subset 3\n",
            "Bias: 1.0\n",
            "POND: 1.0\n",
            "POD: 1.0\n",
            "Accuracy: 1.0\n",
            "-----------------\n",
            "Subset 4\n",
            "Bias: 0.6\n",
            "POND: 1.0\n",
            "POD: 0.6\n",
            "Accuracy: 0.9819819819819819\n",
            "-----------------\n",
            "Subset 5\n",
            "Bias: 0.8571428571428571\n",
            "POND: 1.0\n",
            "POD: 0.8571428571428571\n",
            "Accuracy: 0.990990990990991\n",
            "-----------------\n",
            "Subset 6\n",
            "Bias: 0.8823529411764706\n",
            "POND: 1.0\n",
            "POD: 0.8823529411764706\n",
            "Accuracy: 0.9819819819819819\n",
            "-----------------\n",
            "Subset 7\n",
            "Bias: 1.0\n",
            "POND: 0.9901960784313726\n",
            "POD: 0.8888888888888888\n",
            "Accuracy: 0.9819819819819819\n",
            "-----------------\n",
            "Subset 8\n",
            "Bias: 0.7777777777777778\n",
            "POND: 0.9900990099009901\n",
            "POD: 0.6666666666666666\n",
            "Accuracy: 0.9636363636363636\n",
            "-----------------\n",
            "Subset 9\n",
            "Bias: 0.8571428571428571\n",
            "POND: 1.0\n",
            "POD: 0.8571428571428571\n",
            "Accuracy: 0.990909090909091\n",
            "-----------------\n",
            "Subset 10\n",
            "Bias: 0.8571428571428571\n",
            "POND: 1.0\n",
            "POD: 0.8571428571428571\n",
            "Accuracy: 0.990909090909091\n",
            "-----------------\n",
            "Avg Bias: 0.8520448179271709\n",
            "Avg POND: 0.9970491166763736\n",
            "Avg POD: 0.8187114845938377\n",
            "Avg Accuracy: 0.9846355446355446\n"
          ],
          "name": "stdout"
        }
      ]
    },
    {
      "cell_type": "code",
      "metadata": {
        "id": "kfBoWaW73SKt",
        "colab_type": "code",
        "outputId": "2737b46b-ab2d-43c1-f8e9-43e4c0107eab",
        "colab": {
          "base_uri": "https://localhost:8080/",
          "height": 34
        }
      },
      "source": [
        "import pickle\n",
        "\n",
        "ckpt = str({sum(accuracy)/len(accuracy)}*10000).split('.')[0]\n",
        "\n",
        "with open(f'history{ckpt}.pickle', 'wb') as handle:\n",
        "    pickle.dump(history, handle, protocol=pickle.HIGHEST_PROTOCOL)\n",
        "\n",
        "with open(f'history{ckpt}.pickle', 'rb') as handle:\n",
        "    b = pickle.load(handle)\n",
        "\n",
        "print(history == b)\n"
      ],
      "execution_count": 0,
      "outputs": [
        {
          "output_type": "stream",
          "text": [
            "True\n"
          ],
          "name": "stdout"
        }
      ]
    }
  ]
}